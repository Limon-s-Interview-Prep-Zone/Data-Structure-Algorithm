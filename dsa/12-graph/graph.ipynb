{
 "cells": [
  {
   "attachments": {},
   "cell_type": "markdown",
   "metadata": {},
   "source": [
    "## [Graph:](https://www.hackerearth.com/practice/algorithms/graphs/graph-representation/practice-problems/)\n",
    "Graphs are mathematical structures that represent pairwise relationships between objects. A graph is a flow structure that represents the relationship between various objects. A graph data structure is a collection of nodes that have data and are connected to other nodes.\n",
    "\n",
    "***types of graphs are:***<br>\n",
    "1. ***Directed Graph (Digraph):*** A directed graph is a graph in which all the edges are uni-directional i.e. the edges point in a single direction.\n",
    "\n",
    "2. ***Undirected Graph:***  An undirected graph is a graph in which all the edges are bi-directional i.e. the edges do not point in any specific direction. Undirected graphs are used to represent symmetric relationships.\n",
    "\n",
    "3. ***Weighted Graph:*** In a weighted graph, each edge is assigned a weight or cost or `default value = 1`.\n",
    "\n",
    "4. ***Cyclic Graph:*** A graph is cyclic if the graph comprises a path that starts from a vertex and ends at the same vertex.\n",
    "\n",
    "5. ***ACyclic Graph:*** An acyclic graph is a graph that has no cycle. A tree is an acyclic graph and has N - 1 edges where N is the number of vertices.\n",
    "\n",
    "***Terminology:***<br>\n",
    "1. ***Vertex (Node):*** An individual element in the graph.\n",
    "2. ***Edge:*** A connection between two vertices, representing the relationship between them.\n",
    "3. ***Degree of a vertex:*** The number of edges incident to a vertex (in-degree and outdegree for directed graphs and total degree for undirected graphs($d=2*no \\; of\\; edges$)).\n",
    "4. ***Path:*** A sequence of vertices where each adjacent pair is connected by an edge.\n",
    "5. ***Cycle:*** A path that starts and ends at the same vertex, forming a loop.\n",
    "6. ***Connected Graph:*** A graph in which there is a path between any two vertices.\n",
    "7. ***Disconnected Graph:*** A graph with at least two vertices where there is no path between some pairs of vertices.\n",
    "8. ***Subgraph:*** A graph formed by a subset of the vertices and edges of the original graph.\n",
    "\n",
    "***Repreesntation:***<br>\n",
    "1. ***Adjacency Matrix:*** A 2D array where the entry (i, j) represents whether there is an edge between vertex i and vertex j. For weighted graphs, the entries can store the edge weights.\n",
    "\n",
    "2. ***Adjacency List:***  A collection of lists (or arrays) where each list represents the neighbors of a vertex. For weighted graphs, the lists can store the neighboring vertices along with their edge weights.\n",
    "\n",
    "***Graph Traversal:***\n",
    "1. ***BFS:*** BFS is a traversing algorithm where you should start traversing from a selected node (source or starting node) and traverse the graph layerwise thus exploring the neighbour nodes (nodes which are directly connected to source node).\n",
    "2. ***DFS:*** The DFS algorithm is a recursive algorithm that uses the idea of backtracking. It involves exhaustive searches of all the nodes by going ahead, if possible, else by backtracking.\n",
    "\n",
    "Application:\n",
    "1.  ***Minimum Spanning Tree:*** Minimum spanning tree is the spanning tree where the cost is minimum among all the spanning trees. Minimum spanning tree has direct application in the design of networks. It is used in algorithms approximating the travelling salesman problem, multi-terminal minimum cut problem and minimum-cost weighted perfect matching and ***Cluster Analysis, Handwriting recognition, Image segmentation***.\n",
    "    1. Kruskal’s Algorithm\n",
    "    2. Prim’s Algorithm\n",
    "2. ***shortest path problem:*** The shortest path problem is about finding a path between vertices in a graph such that the total sum of the edges weights is minimum. ***This problem could be solved easily using (BFS) if all edge weights were 1.***\n",
    "    1. Bellman Ford's Algorithm\n",
    "    2. Dijkstra's Algorithm\n",
    "    3. Floyd-Warshall Algorithm.\n",
    "\n",
    "\n",
    "***Algorithm:***\n",
    "1. Flood-fill Algorithm\n",
    "2. Articulation Points and Bridges."
   ]
  },
  {
   "attachments": {},
   "cell_type": "markdown",
   "metadata": {},
   "source": [
    "### Prob1: Count the unique paths from the top left to the bottom right. A single path may only move along 0's  and can not visit the same cell more than once.\n",
    "Solve this with DFS.\n",
    "|r*c|0|1|2|3|\n",
    "|--:|--:|--:|--:|--:|\n",
    "|0|0|0|0|0|\n",
    "|1|1|1|0|0|\n",
    "|2|0|0|0|1|\n",
    "|3|0|1|0|0|"
   ]
  },
  {
   "cell_type": "code",
   "execution_count": 3,
   "metadata": {},
   "outputs": [
    {
     "name": "stdout",
     "output_type": "stream",
     "text": [
      "2\n"
     ]
    }
   ],
   "source": [
    "# backtracking\n",
    "def dfs(matrix, r, c, visit: set):\n",
    "    rows, cols = len(matrix), len(matrix[0])\n",
    "    if min(r, c) < 0 or r == rows or c == cols or (r, c) in visit or matrix[r][c] == 1:\n",
    "        return 0\n",
    "    if r == rows - 1 and c == cols - 1:\n",
    "        return 1\n",
    "\n",
    "    visit.add((r, c))\n",
    "\n",
    "    count = 0\n",
    "    count += dfs(matrix, r + 1, c, visit)\n",
    "    count += dfs(matrix, r - 1, c, visit)\n",
    "    count += dfs(matrix, r, c + 1, visit)\n",
    "    count += dfs(matrix, r, c - 1, visit)\n",
    "\n",
    "    visit.remove((r, c))\n",
    "    return count\n",
    "\n",
    "\n",
    "matrix = [[0, 0, 0, 0], [1, 1, 0, 0], [0, 0, 0, 1], [0, 1, 0, 0]]\n",
    "print(dfs(matrix, 0, 0, set())) # 2\n",
    "#TC=O(4^(r*c)) SC: O(r*n)"
   ]
  },
  {
   "cell_type": "code",
   "execution_count": 6,
   "metadata": {},
   "outputs": [
    {
     "name": "stdout",
     "output_type": "stream",
     "text": [
      "2\n"
     ]
    }
   ],
   "source": [
    "from collections import deque\n",
    "\n",
    "\n",
    "def unique_paths(grid):\n",
    "    if not grid or not grid[0]:\n",
    "        return 0\n",
    "\n",
    "    rows, cols = len(grid), len(grid[0])\n",
    "    start = (0, 0)\n",
    "    end = (rows - 1, cols - 1)\n",
    "\n",
    "    if grid[0][0] == 1 or grid[rows - 1][cols - 1] == 1:\n",
    "        return 0\n",
    "\n",
    "    queue = deque([(start, set([start]))])\n",
    "    pathCount = 0\n",
    "\n",
    "    directions = [(-1, 0), (1, 0), (0, -1), (0, 1)]  # up, down, left, right\n",
    "\n",
    "    while queue:\n",
    "        (r, c), visited = queue.popleft()\n",
    "\n",
    "        if (r, c) == end:\n",
    "            pathCount += 1\n",
    "            continue\n",
    "\n",
    "        for dr, dc in directions:\n",
    "            nr, nc = r + dr, c + dc\n",
    "            if (\n",
    "                0 <= nr < rows\n",
    "                and 0 <= nc < cols\n",
    "                and (nr, nc) not in visited\n",
    "                and grid[nr][nc] == 0\n",
    "            ):\n",
    "                new_visited = visited.copy()\n",
    "                new_visited.add((nr, nc))\n",
    "                queue.append(((nr, nc), new_visited))\n",
    "\n",
    "    return pathCount\n",
    "\n",
    "\n",
    "grid = [[0, 0, 0, 0], [1, 1, 0, 0], [0, 0, 0, 1], [0, 1, 0, 0]]\n",
    "print(unique_paths(grid))  # Output: 2"
   ]
  },
  {
   "cell_type": "markdown",
   "metadata": {},
   "source": [
    "### Prob2: Find the length of the shortest path from the top left to the bottom right.\n",
    "Solve this with BFS.\n",
    "|r*c|0|1|2|3|\n",
    "|--:|--:|--:|--:|--:|\n",
    "|0|0|0|0|0|\n",
    "|1|1|1|0|0|\n",
    "|2|0|0|0|1|\n",
    "|3|0|1|0|0|"
   ]
  },
  {
   "cell_type": "code",
   "execution_count": 9,
   "metadata": {},
   "outputs": [
    {
     "name": "stdout",
     "output_type": "stream",
     "text": [
      "6\n"
     ]
    }
   ],
   "source": [
    "from collections import deque\n",
    "from typing import List\n",
    "\n",
    "\n",
    "def bfs(matrix: List[List[int]]) -> int:\n",
    "    rows, cols = len(matrix), len(matrix[0])\n",
    "    visit = set()\n",
    "    queue = deque()\n",
    "    queue.append((0, 0))\n",
    "    visit.add((0, 0))\n",
    "\n",
    "    length = 0\n",
    "    while queue:\n",
    "        for _ in range(len(queue)):\n",
    "            r, c = queue.popleft()\n",
    "            if r == rows - 1 and c == cols - 1:\n",
    "                return length\n",
    "\n",
    "            neighbors = [[0, 1], [0, -1], [1, 0], [-1, 0]]\n",
    "\n",
    "            for dr, dc in neighbors:\n",
    "                if (\n",
    "                    min(dr + r, c + dc) < 0\n",
    "                    or r + dr == rows\n",
    "                    or c + dc == cols\n",
    "                    or (r + dr, c + dc) in visit\n",
    "                    or matrix[r + dr][c + dc] == 1\n",
    "                ):\n",
    "                    continue\n",
    "                \n",
    "                queue.append((r + dr, c + dc))\n",
    "                visit.add((r + dr, c + dc))\n",
    "        length += 1\n",
    "\n",
    "matrix = [[0, 0, 0, 0], [1, 1, 0, 0], [0, 0, 0, 1], [0, 1, 0, 0]]\n",
    "print(bfs(matrix)) # 6\n",
    "#TC=O(r*c) SC: O(r*n)"
   ]
  },
  {
   "cell_type": "code",
   "execution_count": 1,
   "metadata": {},
   "outputs": [
    {
     "name": "stdout",
     "output_type": "stream",
     "text": [
      "[[], [1], [2], [1, 2], [3], [1, 3], [2, 3], [1, 2, 3]]\n"
     ]
    }
   ],
   "source": [
    "def subsets(nums):\n",
    "    n = len(nums)\n",
    "    all_subsets = []\n",
    "    for mask in range(1 << n):  # There are 2^n subsets\n",
    "        subset = []\n",
    "        for i in range(n):\n",
    "            if mask & (1 << i):  # Check if the i-th bit is set\n",
    "                subset.append(nums[i])\n",
    "        all_subsets.append(subset)\n",
    "    return all_subsets\n",
    "\n",
    "# Example usage:\n",
    "nums = [1, 2, 3]\n",
    "print(subsets(nums))\n"
   ]
  }
 ],
 "metadata": {
  "kernelspec": {
   "display_name": "Python 3",
   "language": "python",
   "name": "python3"
  },
  "language_info": {
   "codemirror_mode": {
    "name": "ipython",
    "version": 3
   },
   "file_extension": ".py",
   "mimetype": "text/x-python",
   "name": "python",
   "nbconvert_exporter": "python",
   "pygments_lexer": "ipython3",
   "version": "3.11.3"
  },
  "orig_nbformat": 4
 },
 "nbformat": 4,
 "nbformat_minor": 2
}
