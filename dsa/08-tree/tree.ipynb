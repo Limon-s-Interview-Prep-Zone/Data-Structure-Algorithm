{
 "cells": [
  {
   "attachments": {},
   "cell_type": "markdown",
   "metadata": {},
   "source": [
    "## Tree Data Structure\n",
    "One of the disadvantages of using an array or linked list to store data is the time necessary to search for an item. Since both the arrays and Linked Lists are linear structures the time required to search a “linear” list is proportional to the size of the data set.\n",
    "\n",
    "A tree is a collection of nodes connected by directed (or undirected) edges. A tree is a nonlinear data structure, compared to arrays, linked lists, stacks and queues which are linear data structures. A tree can be empty with no nodes or a tree is a structure consisting of one node called the root and zero or one or more subtrees."
   ]
  },
  {
   "attachments": {},
   "cell_type": "markdown",
   "metadata": {},
   "source": [
    "Common Term:\n",
    "\n",
    "1. ***Node:*** A node is an entity that contains a key or value and pointers to its child nodes.\n",
    "2. ***Edge:*** It is the link between any two nodes. \n",
    "3. ***leaves or external node:*** Nodes with no children are called leaves.\n",
    "4. ***Internal node:***  Nodes, which are not leaves, are called internal nodes. Internal nodes have at least one child.\n",
    "5. ***siblings:*** Nodes with the same parent are called siblings.\n",
    "6. ***depth of a node:*** The depth of a node is the number of `edges from the root to the node`.\n",
    "7. ***height of a tree:*** The height of a tree is the number of edges from the `root-node to the lowest deepest leaf or descendant`. The height of B is 2. The height of a tree is a height of a root.\n",
    "8. ***height of a node:*** The height of a node is the number of edges from the `root-node to the lowest deepest leaf or descendant`. The height of B is 2. The height of a tree is a height of a root.\n",
    "\n",
    "Types of Tree:\n",
    "1. Binary Tree\n",
    "2. Binary search tree\n",
    "3. AVL tree\n",
    "4. B-tree"
   ]
  },
  {
   "attachments": {},
   "cell_type": "markdown",
   "metadata": {},
   "source": [
    "#### Tree Applications:\n",
    "1. BST are are used to seraching an element efficiently.\n",
    "2. A modified version of a tree called Tries is used in modern routers to store routing information.\n",
    "3. Most popular databases use B-Trees and T-Trees, which are variants of the tree structure we learned above to store their data."
   ]
  },
  {
   "attachments": {},
   "cell_type": "markdown",
   "metadata": {},
   "source": [
    "#### Why Tree Data Structure?\n",
    "Other data structures such as arrays, linked list, stack, and queue are linear data structures that store data sequentially. In order to perform any operation in a linear data structure, the time complexity increases with the increase in the data size. But, it is not acceptable in today's computational world.\n",
    "\n",
    "Different tree data structures allow quicker and easier access to the data as it is a non-linear data structure."
   ]
  },
  {
   "attachments": {},
   "cell_type": "markdown",
   "metadata": {},
   "source": [
    "#### ***1#Full Binary Tree:***\n",
    "A full binary tree is a binary tree in which every node has either zero or two children. In other words, every node in a full binary tree has either 0 or 2 child nodes.\n",
    "\n",
    "#### ***2#Complete Binary Tree:***\n",
    "A complete binary tree is a binary tree in which all levels, except possibly the last, are completely filled, and all nodes are as left as possible. In a complete binary tree, if any nodes are missing from the last level, they are filled in from left to right.\n",
    "\n",
    "#### ***3#Perfect Binary Tree:***\n",
    "A perfect binary tree is a binary tree in which all internal nodes have two children, and all leaf nodes are at the same level. In other words, a perfect binary tree is both full and complete.\n",
    "\n",
    "#### ***4#Balanced Binary Tree:***\n",
    "A balanced binary tree, also referred to as a height-balanced binary tree, is defined as a binary tree in which the height of the left and right subtree of any node differ by not more than 1. Higet of the tree atmost $\\log(N)$, here N is the toal nodes.\n",
    "\n",
    "#### ***5#Binary Search Tree:***\n",
    "It is called a binary tree because each tree node has a maximum of two children. It is called a search tree because it can be used to search for the presence of a number in $O(log(n))$ time.\n",
    "\n",
    "1. All nodes of `left subtree are less than the root node.`\n",
    "2. All nodes of `right subtree are more than the root node.`\n",
    "3. Time Complexity:\n",
    "    - in a balance binary search tree: `TC:` $O(log(n))$\n",
    "    - Imbalance BST-> `TC:` $O(n)$ or $O(h)$\n",
    "\n",
    "##### Why do we need binary search tree?\n",
    "The downside of an sorted array is the removing and adding value take $O(N)$ times. But in binary search tree we can insert and delete item by $O(log n)$ times.\n",
    "    \n",
    "\n",
    "#### ***6#AVL tree:***\n",
    "AVL tree is a self-balancing binary search tree in which each node maintains extra information called a balance factor whose value is either -1, 0 or +1.\n",
    "\n",
    "#### ***7#Degenerated Tree:*** Linklist\n",
    "\n"
   ]
  },
  {
   "attachments": {},
   "cell_type": "markdown",
   "metadata": {},
   "source": [
    "### Tree Traversal:\n",
    "Traversing a tree means visiting every node in the tree. Linear data structures like arrays, stacks, queues, and linked list have only one way to read the data. But a hierarchical data structure like a tree can be traversed in different ways.\n",
    "\n",
    "DFS Technique: Using stack or recursion.\n",
    "\n",
    "1. Inorder(left, root, right)\n",
    "2. Preorder(root, left, right)\n",
    "3. Postorder(left, right, root)\n",
    "\n",
    "\n",
    "BFS Technique: Using queue and goes lavel wise.\n",
    "\n",
    "\n"
   ]
  },
  {
   "cell_type": "markdown",
   "metadata": {},
   "source": []
  },
  {
   "cell_type": "markdown",
   "metadata": {},
   "source": [
    "### [LeetCode-1382](https://leetcode.com/problems/balance-a-binary-search-tree/description/?envType=daily-question&envId=2024-06-26)"
   ]
  },
  {
   "cell_type": "code",
   "execution_count": 12,
   "metadata": {},
   "outputs": [
    {
     "name": "stdout",
     "output_type": "stream",
     "text": [
      "1->2->3->4->"
     ]
    }
   ],
   "source": [
    "# Definition for a binary tree node.\n",
    "class TreeNode:\n",
    "    def __init__(self, val=0, left=None, right=None):\n",
    "        self.val = val\n",
    "        self.left = left\n",
    "        self.right = right\n",
    "        \n",
    "class Solution:\n",
    "    def balanceBST(self, root: TreeNode) -> TreeNode:\n",
    "        nums = []\n",
    "\n",
    "        def inOrder(node: TreeNode):\n",
    "            if node is None:\n",
    "                return None\n",
    "            inOrder(node.left)\n",
    "            nums.append(node.val)\n",
    "            inOrder(node.right)\n",
    "\n",
    "        def insert(l, r) -> TreeNode:\n",
    "            if l > r:\n",
    "                return None\n",
    "\n",
    "            mid = l + ((r - l) >> 1)\n",
    "            rootNode = TreeNode(nums[mid])\n",
    "            rootNode.left = insert(l, mid - 1)\n",
    "            rootNode.right = insert(mid + 1, r)\n",
    "\n",
    "            return rootNode\n",
    "\n",
    "        inOrder(root)\n",
    "        return insert(0, len(nums) - 1)\n",
    "    \n",
    "    def inOrderTraverse(self, node: TreeNode):\n",
    "        if node is None:\n",
    "            return None\n",
    "        self.inOrderTraverse(node.left)\n",
    "        print(node.val,end=\"->\")\n",
    "        self.inOrderTraverse(node.right)\n",
    "\n",
    "root= TreeNode(1)\n",
    "root.right=TreeNode( 2)\n",
    "root.right.right=TreeNode( 3)\n",
    "root.right.right.right=TreeNode( 4)\n",
    "s= Solution()\n",
    "newRoot = s.balanceBST(root)\n",
    "s.inOrderTraverse(newRoot)\n"
   ]
  }
 ],
 "metadata": {
  "kernelspec": {
   "display_name": "Python 3",
   "language": "python",
   "name": "python3"
  },
  "language_info": {
   "codemirror_mode": {
    "name": "ipython",
    "version": 3
   },
   "file_extension": ".py",
   "mimetype": "text/x-python",
   "name": "python",
   "nbconvert_exporter": "python",
   "pygments_lexer": "ipython3",
   "version": "3.11.3"
  },
  "orig_nbformat": 4
 },
 "nbformat": 4,
 "nbformat_minor": 2
}
