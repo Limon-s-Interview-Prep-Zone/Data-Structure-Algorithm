{
 "cells": [
  {
   "attachments": {},
   "cell_type": "markdown",
   "metadata": {},
   "source": [
    "## <center>**_`ARRAY`_**<center>\n"
   ]
  },
  {
   "cell_type": "markdown",
   "metadata": {},
   "source": [
    "An array is a collection of items of same data type stored at contiguous memory locations.\n",
    "\n",
    "There are two types of array:\n",
    "\n",
    "1. Static Array: `Fixed sized`\n",
    "2. Dynamic Array\n"
   ]
  },
  {
   "cell_type": "markdown",
   "metadata": {},
   "source": [
    "### Static Array: `Fixed sized`\n",
    "\n",
    "| Operation            | Big-O Time |\n",
    "| :------------------- | :--------: |\n",
    "| r/w $i^{th}$ element |    O(1)    |\n",
    "| Insert / Remove End  |    O(1)    |\n",
    "| Insert Middle        |    O(n)    |\n",
    "| Remove Middle        |    O(n)    |\n",
    "\n",
    "Problem: `Initialization of the array size`\n"
   ]
  },
  {
   "cell_type": "markdown",
   "metadata": {},
   "source": [
    "### Dynamic Array:\n",
    "\n",
    "`in python and javascript dynamic arrays are default.`\n",
    "| Operation | Big-O Time |\n",
    "|:-----------|:------------:|\n",
    "| r/w $i^{th}$ element | O(1) |\n",
    "| Insert / Remove End | O(1) |\n",
    "| Insert Middle | O(n) |\n",
    "| Remove Middle | O(n) |\n",
    "\n",
    "#### Why do we double the dynamic array size after each insertation?\n",
    "\n",
    "When we push an elemet in an dynamic array, first it will cheack the size whether it outs of the boundary. If true, then the array will resize its size and copy all the existing elements then push the new elements. Thats why new size of dynamic array will be `double` its original size, allowing the average time complexity of this operation will be `O(n)` and average time complexity of pushing an item will be `O(1)` also called `Amortized time complexity`.\n",
    "\n",
    "Suppose we have to push 8 values in this `[5, 6, 7 ,8 ,9,10,11,12]` dynamic array.\n",
    "|Operation|Step|Input|\n",
    "|--:|--: |--:|\n",
    "|1 | 1| [5]|\n",
    "|2 | 1| [5,6]|\n",
    "|4 | 1| [5,6,7,8]|\n",
    "|8 | 1| [5,6,7,8,9,10,11,12]|\n",
    "\n",
    "So, total operations -> `15<=2N`, so time complexity: `O(n)`\n"
   ]
  },
  {
   "cell_type": "markdown",
   "metadata": {},
   "source": [
    "### `KeyPoints`:\n",
    "\n",
    "1. `int arr[ 5 ] = {  };`\n",
    "2. `arr= []; //python`\n",
    "3. Maximum size of an arry: $10^6$ (inside of main function) however globally it will be $10^7$.\n",
    "4. We can access an array elelment by indexing.\n",
    "\n",
    "**_Note:_**<br>\n",
    "if we declare `int arr[10]` inside in `main()` function then all 10 indexes will fill up with garbage value. However if we decalre globally then all value wiil be filled up by `0`.\n"
   ]
  },
  {
   "cell_type": "markdown",
   "metadata": {},
   "source": [
    "## <center>**_`ALGORITHM`_**<center>\n"
   ]
  },
  {
   "cell_type": "markdown",
   "metadata": {},
   "source": [
    "### 1#Kadane's Alogorithm\n",
    "Kadane's Algorithm is primarily used to find the maximum sum of a contiguous subarray within a one-dimensional numeric array. It's efficient and works well for problems where you need to identify the subarray with the highest sum among both positive and negative numbers.\n"
   ]
  },
  {
   "cell_type": "markdown",
   "metadata": {},
   "source": [
    "#### Prob#1: Find a non-empty sub-array with the largest sum.\n",
    "\n",
    "`nums = [4,-1,2,-7,3,4]`\n"
   ]
  },
  {
   "cell_type": "code",
   "execution_count": 35,
   "metadata": {},
   "outputs": [
    {
     "data": {
      "text/plain": [
       "7"
      ]
     },
     "execution_count": 35,
     "metadata": {},
     "output_type": "execute_result"
    }
   ],
   "source": [
    "### Brute Force $O(n*n)$\n",
    "def bruteForceLargestSum(nums) -> int:\n",
    "    maxSum = nums[0]\n",
    "    for i in range(len(nums)):\n",
    "        curSum = 0\n",
    "        for j in range(i, len(nums)):\n",
    "            curSum += nums[j]\n",
    "            maxSum = max(maxSum, curSum)\n",
    "    return maxSum\n",
    "\n",
    "\n",
    "bruteForceLargestSum([4, -1, 2, -7, 3, 4])"
   ]
  },
  {
   "cell_type": "markdown",
   "metadata": {},
   "source": [
    "`Algorithm:`\n",
    "1. set maxSum to infinity or `nums[0]`\n",
    "2. Set currenSum which will indetify if the previous sum will account of. `max(currentSum, 0)`\n",
    "3. Update maxSum.`maxSum=max(maxSum, currentSum)`"
   ]
  },
  {
   "cell_type": "code",
   "execution_count": 1,
   "metadata": {},
   "outputs": [
    {
     "data": {
      "text/plain": [
       "7"
      ]
     },
     "execution_count": 1,
     "metadata": {},
     "output_type": "execute_result"
    }
   ],
   "source": [
    "### Kadanes Algorithm\n",
    "def kadanesLargestSum(nums) -> int:\n",
    "    maxSum = nums[0]\n",
    "    currSum = 0\n",
    "    for i in nums:\n",
    "        currSum = max(currSum, 0) + i\n",
    "        maxSum = max(maxSum, currSum)\n",
    "    return maxSum\n",
    "\n",
    "kadanesLargestSum([4, -1, 2, -7, 3, 4])\n",
    "# TC: O(N) #SC: O(1)"
   ]
  },
  {
   "cell_type": "markdown",
   "metadata": {},
   "source": [
    "#### Prob#2: Return the left and right index of the max subarray sum\n",
    "\n",
    "`nums=[4,-1,2,-7, 3,4]`\n"
   ]
  },
  {
   "cell_type": "code",
   "execution_count": 2,
   "metadata": {},
   "outputs": [
    {
     "data": {
      "text/plain": [
       "[4, 5]"
      ]
     },
     "execution_count": 2,
     "metadata": {},
     "output_type": "execute_result"
    }
   ],
   "source": [
    "## Kadanes algorithm with sliding window and two pointer\n",
    "def lrIndexOfMaxSubArray(nums):\n",
    "    l = 0\n",
    "    maxSum = nums[0]\n",
    "    maxL, maxR = 0, 0\n",
    "    currSum = 0\n",
    "    for r in range(len(nums)):\n",
    "        if currSum < 0:\n",
    "            l = r\n",
    "            currSum = 0\n",
    "\n",
    "        currSum += nums[r]\n",
    "\n",
    "        if currSum > maxSum:\n",
    "            maxSum = currSum\n",
    "            maxL = l\n",
    "            maxR = r\n",
    "\n",
    "    return [maxL, maxR]\n",
    "\n",
    "\n",
    "lrIndexOfMaxSubArray([4, -1, 2, -7, 3, 4])\n",
    "\n",
    "# TC:O(N)"
   ]
  },
  {
   "cell_type": "markdown",
   "metadata": {},
   "source": [
    "### 2#Sliding Window \n",
    "The sliding window technique is a useful algorithmic approach for solving a variety of problems, particularly those involving subarrays or substrings. This technique involves maintaining a window that slides over the data structure to cover a subset of elements and dynamically updates the solution as the window moves. It’s often used in scenarios where you need to find a subarray or substring that satisfies certain conditions.\n",
    "\n",
    "1. Fixed Size Sliding window\n",
    "2. Variable size of Sliding window"
   ]
  },
  {
   "cell_type": "markdown",
   "metadata": {},
   "source": [
    "#### Prob#1: Given an array, retrn true if there are two elements within a window of size `K` that are equal.\n",
    "\n",
    "`nums=[1,2,3,2,3,3]` <br>\n",
    "\n"
   ]
  },
  {
   "cell_type": "code",
   "execution_count": 32,
   "metadata": {},
   "outputs": [
    {
     "data": {
      "text/plain": [
       "True"
      ]
     },
     "execution_count": 32,
     "metadata": {},
     "output_type": "execute_result"
    }
   ],
   "source": [
    "#\n",
    "def closeBruteForceDuplicates(nums, k) -> bool:\n",
    "    for L in range(len(nums) - 1):\n",
    "        for R in range(L + 1, min(len(nums), k + L)):\n",
    "            if nums[L] == nums[k]:\n",
    "                return True\n",
    "\n",
    "\n",
    "    return False\n",
    "\n",
    "closeBruteForceDuplicates([1, 2, 3, 2, 3, 3], 3)\n",
    "\n",
    "# TC=O(N*K) # for smaller K size this bruteforce approch is fine but larger window for `K<=N` then TC:O(N*N)"
   ]
  },
  {
   "cell_type": "markdown",
   "metadata": {},
   "source": [
    "`Ditecting duplicate in a window we use hashSet to optimize the solution.` "
   ]
  },
  {
   "cell_type": "code",
   "execution_count": 31,
   "metadata": {},
   "outputs": [
    {
     "data": {
      "text/plain": [
       "True"
      ]
     },
     "execution_count": 31,
     "metadata": {},
     "output_type": "execute_result"
    }
   ],
   "source": [
    "def closeDuplicates(nums, k) -> bool:\n",
    "    window = {}\n",
    "    L = 0\n",
    "\n",
    "    for R in range(len(nums)):\n",
    "        if R - L + 1 > k:\n",
    "            L += 1\n",
    "            window.pop(nums[L])\n",
    "\n",
    "        if nums[R] in window:\n",
    "            return True\n",
    "        \n",
    "        window[nums[R]]=1\n",
    "\n",
    "\n",
    "    return False\n",
    "\n",
    "\n",
    "\n",
    "closeDuplicates([1, 1, 2, 3, 2, 3, 3], 3)\n",
    "# TC=O(N) SC:O(N)"
   ]
  },
  {
   "cell_type": "code",
   "execution_count": 11,
   "metadata": {},
   "outputs": [
    {
     "name": "stdout",
     "output_type": "stream",
     "text": [
      "[]\n",
      "1\n"
     ]
    },
    {
     "data": {
      "text/plain": [
       "3"
      ]
     },
     "execution_count": 11,
     "metadata": {},
     "output_type": "execute_result"
    }
   ],
   "source": [
    "def numberOfSubarrays(nums:any, k: int) -> int:\n",
    "        window=[]\n",
    "        res=0\n",
    "        L=0\n",
    "        cnt=0\n",
    "        for R in range(len(nums)):\n",
    "           cnt+= nums[R] & 1\n",
    "           if cnt==k:\n",
    "                 L+=1\n",
    "                 cnt-=1\n",
    "                 res+=1\n",
    "        #    window.append(nums[R]&1)\n",
    "        print(window)\n",
    "        print(cnt)\n",
    "        return res\n",
    "numberOfSubarrays([1,1,2,1,1], k = 2)"
   ]
  },
  {
   "cell_type": "code",
   "execution_count": 13,
   "metadata": {},
   "outputs": [
    {
     "data": {
      "text/plain": [
       "16"
      ]
     },
     "execution_count": 13,
     "metadata": {},
     "output_type": "execute_result"
    }
   ],
   "source": [
    "\n",
    "from typing import Counter\n",
    "\n",
    "\n",
    "def numberOfSubarrays( nums, k: int) -> int:\n",
    "    cnt = Counter({0: 1})\n",
    "    ans = t = 0\n",
    "    for v in nums:\n",
    "        t += v & 1\n",
    "        ans += cnt[t - k]\n",
    "        cnt[t] += 1\n",
    "    return ans\n",
    "\n",
    "numberOfSubarrays([2,2,2,1,2,2,1,2,2,2], k = 2)"
   ]
  },
  {
   "cell_type": "markdown",
   "metadata": {},
   "source": [
    "### 3#Sliding Window Variable Size\n"
   ]
  },
  {
   "cell_type": "markdown",
   "metadata": {},
   "source": [
    "#### Prob#1: Find the length of the longest subarray, with the same value in each position.\n",
    "\n",
    "`nums = [4,2,2,3,3,3]`\n"
   ]
  },
  {
   "cell_type": "code",
   "execution_count": 30,
   "metadata": {},
   "outputs": [
    {
     "data": {
      "text/plain": [
       "3"
      ]
     },
     "execution_count": 30,
     "metadata": {},
     "output_type": "execute_result"
    }
   ],
   "source": [
    "def longestSubarry(nums: any) -> int:\n",
    "    length=0\n",
    "    L=0\n",
    "    for R in range(len(nums)):\n",
    "        if nums[L]!=nums[R]:\n",
    "            L=R\n",
    "        length=max(R-L+1, length)\n",
    "    return length\n",
    "\n",
    "\n",
    "longestSubarry([4, 2, 2, 3, 3, 3])\n",
    "\n",
    "#TC:O(N)"
   ]
  },
  {
   "cell_type": "markdown",
   "metadata": {},
   "source": [
    "#### Prob#2: Find the minimum length subarray where the sum is greater than or equal to the target. `Assume all values are positive.`<br>\n",
    "\n",
    "`nums=[2,3,1,2,4,3]`\n"
   ]
  },
  {
   "cell_type": "code",
   "execution_count": 22,
   "metadata": {},
   "outputs": [
    {
     "name": "stdout",
     "output_type": "stream",
     "text": [
      "1\n"
     ]
    }
   ],
   "source": [
    "def shortestSubarray(nums, target) -> int:\n",
    "    length = float(\"inf\")\n",
    "    total = 0\n",
    "    L = 0\n",
    "    for R in range(len(nums)):\n",
    "        total += nums[R]\n",
    "        while total >= target:\n",
    "            length = min(R - L + 1, length)\n",
    "            total -= nums[L]\n",
    "            L += 1\n",
    "        ## messy code blocks. Use while loop instead of for loop\n",
    "        # for _ in range(L, R+1):\n",
    "        #     if total<target:\n",
    "        #         break\n",
    "        #     length= min(R-L+1, length)\n",
    "        #     total-=nums[L]\n",
    "        #     L+=1\n",
    "\n",
    "    return 0 if length == float(\"inf\") else length\n",
    "\n",
    "shortestSubarray([2, 3, 1, 2, 4, 3,7], 6)\n",
    "\n",
    "## TC: O(N); though there is inner loop, tc will be O(N) because for each R inner loop is not running, it runs only for constant of time."
   ]
  },
  {
   "cell_type": "markdown",
   "metadata": {},
   "source": [
    "#### While loop- vs For Loop:\n",
    "1. ***`While loop:`***\n",
    "    - Use when to check some conditions before excuting blocks of code inside a loop or condition might be dynamically updated.\n",
    "    - Use When iterations is unknow. \n",
    "2. ***`For Loop:`***\n",
    "    - Use when there is a fixed no of iterations in list or dic."
   ]
  },
  {
   "cell_type": "markdown",
   "metadata": {},
   "source": [
    "### 4#Two Pointer\n",
    "\n",
    "[Two pointer Problem sets](https://leetcode.com/discuss/study-guide/1688903/solved-all-two-pointers-problems-in-100-days)\n"
   ]
  },
  {
   "cell_type": "markdown",
   "metadata": {},
   "source": [
    "#### Prob#1: check if an array is a `plindrome`.\n",
    "\n",
    "`nums=[1,2,7,7,2,1]`\n"
   ]
  },
  {
   "cell_type": "code",
   "execution_count": 36,
   "metadata": {},
   "outputs": [
    {
     "data": {
      "text/plain": [
       "True"
      ]
     },
     "execution_count": 36,
     "metadata": {},
     "output_type": "execute_result"
    }
   ],
   "source": [
    "def checkPlindrome(nums) -> bool:\n",
    "    R = len(nums) - 1\n",
    "    L = 0\n",
    "    # for L  in range(R):\n",
    "    #     if nums[L]!=nums[R-L]:\n",
    "    #         return False\n",
    "    while L < R:\n",
    "        if nums[L] != nums[R]:\n",
    "            return False\n",
    "        L += 1\n",
    "        R -= 1\n",
    "\n",
    "    return True\n",
    "\n",
    "checkPlindrome([1, 2, 7, 7, 2, 1])\n",
    "#TC: O(N)"
   ]
  },
  {
   "cell_type": "markdown",
   "metadata": {},
   "source": [
    "#### Prob#2: Given a `sorted` input array, return the two indices of two elements which sum up to the target value. Assume there's `exactly one solution`.\n",
    "\n",
    "`nums=[-1,2,3,4,8,9]`\n"
   ]
  },
  {
   "cell_type": "code",
   "execution_count": 28,
   "metadata": {},
   "outputs": [
    {
     "data": {
      "text/plain": [
       "[2, 3]"
      ]
     },
     "execution_count": 28,
     "metadata": {},
     "output_type": "execute_result"
    }
   ],
   "source": [
    "def targetSum(nums, target) -> object:\n",
    "    L, R = 0, len(nums) - 1\n",
    "    while L < R:\n",
    "        if nums[L] + nums[R] > target:\n",
    "            R -= 1\n",
    "        elif nums[L] + nums[R] < target:\n",
    "            L += 1\n",
    "        else:\n",
    "            return [L, R]\n",
    "\n",
    "\n",
    "\n",
    "targetSum([-1, 2, 3, 4, 7, 9], target=7)\n",
    "# TC: O(N)"
   ]
  },
  {
   "cell_type": "markdown",
   "metadata": {},
   "source": [
    "### 5#Prefix<>Postfix [Sums, Product]\n"
   ]
  },
  {
   "cell_type": "markdown",
   "metadata": {},
   "source": [
    "#### Prob#1: Given an array of values, design a data structure that can query the sum of a subarray of the values.\n",
    "\n",
    "`nums=[2,-1,4,1,5]`\n"
   ]
  },
  {
   "cell_type": "code",
   "execution_count": 37,
   "metadata": {},
   "outputs": [
    {
     "data": {
      "text/plain": [
       "1"
      ]
     },
     "execution_count": 37,
     "metadata": {},
     "output_type": "execute_result"
    }
   ],
   "source": [
    "class PrefixSum:\n",
    "    def __init__(self, nums) -> None:\n",
    "        self.prefix=[]\n",
    "        total=0\n",
    "        for num in nums:\n",
    "            total+=num\n",
    "            self.prefix.append(total)\n",
    "\n",
    "    def rangeSum(self, left, right) -> int:\n",
    "        preLeft= self.prefix[left-1] if left>0 else 0\n",
    "        preRight=self.prefix[right]\n",
    "\n",
    "        return preRight-preLeft\n",
    "ps=PrefixSum([2,-1,4,1,5])\n",
    "ps.rangeSum(0,1)\n",
    "\n",
    "# TC: O(N) SC:O(N)\n",
    "# Quray Sum: TC:O(1)"
   ]
  },
  {
   "cell_type": "markdown",
   "metadata": {},
   "source": [
    "## <center>**_`SOLUTIONS`_**<center>\n"
   ]
  },
  {
   "cell_type": "markdown",
   "metadata": {},
   "source": [
    "### Prob#1 Array Operations:\n"
   ]
  },
  {
   "cell_type": "markdown",
   "metadata": {},
   "source": [
    "### Prob#2. Find the largest element of an array.\n"
   ]
  },
  {
   "cell_type": "code",
   "execution_count": 2,
   "metadata": {},
   "outputs": [
    {
     "name": "stdout",
     "output_type": "stream",
     "text": [
      "The Largest element in the array is: 5\n",
      "The Largest element in the array is: 10\n"
     ]
    },
    {
     "data": {
      "text/plain": [
       "'\\nTime Complexity: O(N*log(N))\\nSpace Complexity: O(n)'"
      ]
     },
     "execution_count": 2,
     "metadata": {},
     "output_type": "execute_result"
    }
   ],
   "source": [
    "from typing import List\n",
    "\n",
    "\n",
    "def largest(arr: List[int]) -> int:\n",
    "    arr.sort()\n",
    "    return arr[-1]\n",
    "\n",
    "\n",
    "if __name__ == \"__main__\":\n",
    "    arr1 = [2, 5, 1, 3, 0]\n",
    "    arr2 = [8, 10, 5, 7, 9]\n",
    "    print(\"The Largest element in the array is:\", largest(arr1))\n",
    "    print(\"The Largest element in the array is:\", largest(arr2))\n",
    "\"\"\"\n",
    "Time Complexity: O(N*log(N))\n",
    "Space Complexity: O(n)\"\"\""
   ]
  },
  {
   "cell_type": "code",
   "execution_count": null,
   "metadata": {},
   "outputs": [],
   "source": [
    "from typing import List\n",
    "class Solution:\n",
    "    def rotate(self, nums: List[int], k: int) -> None:\n",
    "        \"\"\"\n",
    "        Do not return anything, modify nums in-place instead.\n",
    "        \"\"\"\n",
    "        l = 0\n",
    "        n=len(nums)\n",
    "        r=n\n",
    "        while l<r:\n",
    "            nums[l], nums[r] = nums[r], nums[l]\n",
    "            l+=1\n",
    "            r-=1\n",
    "        print(nums)\n",
    "s= Solution()\n",
    "l=s.rotate([1,2,3,4,5,6,7], 3)\n",
    "print(l)"
   ]
  }
 ],
 "metadata": {
  "kernelspec": {
   "display_name": "Python 3",
   "language": "python",
   "name": "python3"
  },
  "language_info": {
   "codemirror_mode": {
    "name": "ipython",
    "version": 3
   },
   "file_extension": ".py",
   "mimetype": "text/x-python",
   "name": "python",
   "nbconvert_exporter": "python",
   "pygments_lexer": "ipython3",
   "version": "3.11.3"
  },
  "orig_nbformat": 4
 },
 "nbformat": 4,
 "nbformat_minor": 2
}
