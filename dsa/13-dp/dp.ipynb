{
 "cells": [
  {
   "attachments": {},
   "cell_type": "markdown",
   "metadata": {},
   "source": [
    "### DP:\n",
    "Dynamic Programming can be described as storing answers to various sub-problems to be used later whenever required to solve the main problem.\n",
    "\n",
    "1. ***Memoization:*** Known as the “top-down” dynamic programming, usually the problem is solved in the direction of the main problem to the base cases.\n",
    "2. ***Tabulation:*** Known as the “bottom-up ” dynamic programming, usually the problem is solved in the direction of solving the base cases to the main problem."
   ]
  },
  {
   "attachments": {},
   "cell_type": "markdown",
   "metadata": {},
   "source": [
    "#### Memoization:\n",
    "1. Create a `dp[n+1]` array initialized to -1.\n",
    "\n",
    "2. Whenever we want to find the answer of a particular value (say n), we first check whether the answer is already calculated using the dp array(i.e `dp[n]!= -1 `). If yes, simply return the value from the dp array.\n",
    "\n",
    "3. If not, then we are finding the answer for the given value for the first time, we will use the recursive relation as usual but before returning from the function, we will set `dp[n]` to the solution we get."
   ]
  },
  {
   "cell_type": "code",
   "execution_count": 1,
   "metadata": {},
   "outputs": [
    {
     "name": "stdout",
     "output_type": "stream",
     "text": [
      "5\n"
     ]
    }
   ],
   "source": [
    "def f(n, dp):\n",
    "    if n <= 1:\n",
    "        return n\n",
    "    \n",
    "    if dp[n] != -1:\n",
    "        return dp[n]\n",
    "    \n",
    "    dp[n] = f(n - 1, dp) + f(n - 2, dp)\n",
    "    return dp[n]\n",
    "'''\n",
    "Time Complexity: O(N)\n",
    "Reason: The overlapping subproblems will return the answer in constant time O(1). Therefore the total number of new subproblems we solve is ‘n’. Hence total time complexity is O(N).\n",
    "\n",
    "Space Complexity: O(N)\n",
    "Reason: We are using a recursion stack space(O(N)) and an array (again O(N)). Therefore total space complexity will be O(N) + O(N) ≈ O(N)\n",
    "'''\n",
    "\n",
    "if __name__ == \"__main__\":\n",
    "    n = 5\n",
    "    dp = [-1] * (n + 1)\n",
    "    print(f(n, dp))"
   ]
  },
  {
   "attachments": {},
   "cell_type": "markdown",
   "metadata": {},
   "source": [
    "#### Tabulation:\n",
    "Tabulation is a ‘bottom-up’ approach where we start from the base case and reach the final answer that we want.\n",
    "\n",
    "1. Declare a dp[] array of size n+1.\n",
    "2. First initialize the base condition values, i.e i=0 and i=1 of the dp array as 0 and 1 respectively.\n",
    "3. Set an iterative loop that traverses the array( from index 2 to n) and for every index set its value as `dp[i-1] + dp[i-2]`. "
   ]
  },
  {
   "cell_type": "code",
   "execution_count": 5,
   "metadata": {},
   "outputs": [
    {
     "name": "stdout",
     "output_type": "stream",
     "text": [
      "5\n"
     ]
    }
   ],
   "source": [
    "def main():\n",
    "    n = 5\n",
    "    dp = [-1]*(n+1)\n",
    "\n",
    "    dp[0] = 0\n",
    "    dp[1] = 1\n",
    "\n",
    "    for i in range(2, n+1):\n",
    "        dp[i] = dp[i-1] + dp[i-2]\n",
    "    \n",
    "    print(dp[n])\n",
    "''' Time Complexity: O(N)\n",
    "Reason: We are running a simple iterative loop\n",
    "Space Complexity: O(N)\n",
    "Reason: We are using an external array of size ‘n+1’.\n",
    "'''\n",
    "if __name__ == \"__main__\":\n",
    "    main()"
   ]
  },
  {
   "cell_type": "code",
   "execution_count": 8,
   "metadata": {},
   "outputs": [
    {
     "name": "stdout",
     "output_type": "stream",
     "text": [
      "5\n"
     ]
    }
   ],
   "source": [
    "# Space optimization:\n",
    "def main():\n",
    "    n = 5\n",
    "\n",
    "    prev2 = 0\n",
    "    prev = 1\n",
    "\n",
    "    for i in range(2, n+1):\n",
    "        cur_i = prev2 + prev\n",
    "        prev2 = prev\n",
    "        prev = cur_i\n",
    "    print(prev)\n",
    "'''\n",
    "Time Complexity: O(N)\n",
    "Reason: We are running a simple iterative loop.\n",
    "Space Complexity: O(1)\n",
    "Reason: We are not using any extra space\n",
    "'''\n",
    "if __name__ == \"__main__\":\n",
    "    main()"
   ]
  },
  {
   "cell_type": "code",
   "execution_count": 4,
   "metadata": {},
   "outputs": [
    {
     "data": {
      "text/plain": [
       "55"
      ]
     },
     "execution_count": 4,
     "metadata": {},
     "output_type": "execute_result"
    }
   ],
   "source": [
    "def dp(n):\n",
    "    if n<2:\n",
    "        return n\n",
    "    dp=[0,1]\n",
    "    i=2\n",
    "    while i<=n:\n",
    "        temp=dp[1]\n",
    "        dp[1]=dp[0]+dp[1]\n",
    "        dp[0]=temp\n",
    "        i+=1\n",
    "    return dp[1]\n",
    "dp(10) ## 55"
   ]
  },
  {
   "cell_type": "markdown",
   "metadata": {},
   "source": [
    "### Two dimentional DP:"
   ]
  },
  {
   "cell_type": "markdown",
   "metadata": {},
   "source": [
    "## [Dynamic Problem Sets](https://leetcode.com/discuss/study-guide/1000929/solved-all-dynamic-programming-dp-problems-in-7-months)"
   ]
  },
  {
   "cell_type": "markdown",
   "metadata": {},
   "source": [
    "### [TOP 20 dp patterns:](https://blog.algomaster.io/p/20-patterns-to-master-dynamic-programming)\n",
    "1. Fibonacci Sequence\n",
    "2. Kadane's Algorithm\n",
    "3. 0/1 Knapsack\n",
    "4. Unbounded Knapsack\n",
    "5. Longest Common Subsequence (LCS)\n",
    "6. Longest Increasing Subsequence (LIS)\n",
    "7. Palindromic Subsequence\n",
    "8. Edit Distance\n",
    "9. Subset Sum\n",
    "10. String Partition\n",
    "11. Catalan Numbers\n",
    "12. Matrix Chain Multiplication\n",
    "13. Count Distinct Ways\n",
    "14. DP on Grids\n",
    "15. DP on Trees\n",
    "16. DP on Graphs\n",
    "17.  Digit DP\n",
    "18.  Bitmasking DP\n",
    "19.  Probability DP\n",
    "20.  State Machine DP"
   ]
  }
 ],
 "metadata": {
  "kernelspec": {
   "display_name": "Python 3",
   "language": "python",
   "name": "python3"
  },
  "language_info": {
   "codemirror_mode": {
    "name": "ipython",
    "version": 3
   },
   "file_extension": ".py",
   "mimetype": "text/x-python",
   "name": "python",
   "nbconvert_exporter": "python",
   "pygments_lexer": "ipython3",
   "version": "3.11.3"
  },
  "orig_nbformat": 4
 },
 "nbformat": 4,
 "nbformat_minor": 2
}
