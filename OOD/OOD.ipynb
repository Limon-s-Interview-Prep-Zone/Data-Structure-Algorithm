{
 "cells": [
  {
   "cell_type": "markdown",
   "metadata": {},
   "source": [
    "# OOP\n",
    "Object-Oriented Programming (OOP) is a programming paradigm based on the concept of \"objects,\" which contain data and methods to manipulate that data.\n",
    "- `Encapsulation, Abstraction, Inheritance, and Polymorphism`."
   ]
  },
  {
   "cell_type": "markdown",
   "metadata": {},
   "source": [
    "## Encapsulation:\n",
    "Encapsulation bundles the data (attributes) and methods (functions) that operate on the data into a single unit or class. It restricts direct access to some of the object's components, which is a means of preventing accidental interference and misuse.\n",
    "- Example: Imagine a coffee machine (class) where you can press a button to get coffee (method) without knowing the internal workings (private data)."
   ]
  },
  {
   "cell_type": "markdown",
   "metadata": {},
   "source": [
    "## Abstraction\n",
    "Abstraction means hiding the complex implementation details and showing only the necessary features of the object. It simplifies interaction with complex systems.\n",
    "- Example: Using a remote control to operate a TV without needing to understand the intricate electronic circuits inside.\n",
    "\n",
    "Types of abstraction:\n",
    "1. Partial Abstraction: Achieved via abstract classes (can contain both abstract and concrete methods).\n",
    "   - Abstract Classes: An abstract class cannot be `instantiated directly`.\n",
    "   - Abstract Methods: Must be `implemented by subclasses`.\n",
    "2. Full Abstraction: Achieved via interfaces (all methods must be abstract)."
   ]
  },
  {
   "cell_type": "markdown",
   "metadata": {},
   "source": [
    "## Inheritance\n",
    "Inheritance is a mechanism where a new class inherits properties and behavior (methods) from an existing class. This promotes code reusability.\n",
    "\n",
    "\n",
    "Types of Inheritance:\n",
    "1. `Single`: One class inherits from another.\n",
    "2. `Multiple`: A class inherits from multiple classes (not supported directly in some languages).\n",
    "   - C#, Typescript, Java use interface to achieve multiple inheritance\n",
    "3. `Multilevel`: A class is derived from a derived class.\n",
    "4. `Hierarchical Inheritance`: Multiple classes inherit from a single superclass.\n",
    "5. `Hybrid Inheritance`: A combination of two or more types of inheritance."
   ]
  },
  {
   "cell_type": "markdown",
   "metadata": {},
   "source": [
    "### Single Inheritance"
   ]
  },
  {
   "cell_type": "markdown",
   "metadata": {},
   "source": [
    "```python\n",
    "\n",
    "# python \n",
    "class Parent:\n",
    "    def display(self):\n",
    "        print(\"Parent class\")\n",
    "\n",
    "class Child(Parent):\n",
    "    def show(self):\n",
    "        print(\"Child class\")\n",
    "\n",
    "child = Child()\n",
    "child.display()  # Output: Parent class\n",
    "child.show()     # Output: Child class\n",
    "```\n",
    "```C#\n",
    "// C#\n",
    "class Parent {\n",
    "    public void Display() {\n",
    "        Console.WriteLine(\"Parent class\");\n",
    "    }\n",
    "}\n",
    "\n",
    "class Child : Parent {\n",
    "    public void Show() {\n",
    "        Console.WriteLine(\"Child class\");\n",
    "    }\n",
    "}\n",
    "\n",
    "class Program {\n",
    "    static void Main() {\n",
    "        Child child = new Child();\n",
    "        child.Display();  // Output: Parent class\n",
    "        child.Show();     // Output: Child class\n",
    "    }\n",
    "}\n",
    "```\n",
    "\n",
    "```java\n",
    "// Java\n",
    "\n",
    "class Parent {\n",
    "    void display() {\n",
    "        System.out.println(\"Parent class\");\n",
    "    }\n",
    "}\n",
    "\n",
    "class Child extends Parent {\n",
    "    void show() {\n",
    "        System.out.println(\"Child class\");\n",
    "    }\n",
    "}\n",
    "\n",
    "public class Main {\n",
    "    public static void main(String[] args) {\n",
    "        Child child = new Child();\n",
    "        child.display();  // Output: Parent class\n",
    "        child.show();     // Output: Child class\n",
    "    }\n",
    "}\n",
    "```\n",
    "```typescript\n",
    "// Typescript\n",
    "class Parent {\n",
    "    display(): void {\n",
    "        console.log(\"Parent class\");\n",
    "    }\n",
    "}\n",
    "\n",
    "class Child extends Parent {\n",
    "    show(): void {\n",
    "        console.log(\"Child class\");\n",
    "    }\n",
    "}\n",
    "\n",
    "const child = new Child();\n",
    "child.display();  // Output: Parent class\n",
    "child.show();     // Output: Child class\n",
    "\n",
    "```"
   ]
  },
  {
   "cell_type": "markdown",
   "metadata": {},
   "source": [
    "## Polymorphism\n",
    "Polymorphism allows methods to do different things based on the object it is acting upon, even though they share the same name. It can be achieved through method overloading and method overriding.\n",
    "1. ***Static Polymorphism(`Compile time plymorphism`)***: Overloading methods with the same name but different parameters.\n",
    "   - Found especially in `strongly typed lanagues(C++, Java, C#)` at `complie time`.\n",
    "   - In Dynamic languages(`python`, `javascript`) normally achieved through duck typing(Duck typing is a concept in programming that emphasizes the behavior of an object rather than its type).\n",
    "2. ***Dynamic Polymorphism(`Run time plymorphism`)***:` Overriding methods in child classes to alter behavior.\n",
    "   - Interface\n",
    "   - Abstract class\n",
    "   - Class"
   ]
  },
  {
   "cell_type": "markdown",
   "metadata": {},
   "source": [
    "## Static Class:\n",
    "Static members belong to the class rather than an instance of the class. They can be accessed without creating an object.\n",
    "\n",
    "Types of Static Members:\n",
    "1. Static Fields: Shared by all objects of a class.\n",
    "2. Static Methods: Methods that don't depend on instance variables.\n",
    "3. C# only provide static keyword to declar a static class. In other language to achive such behaviors with making the `constructor private` that will stop creating object of that class. In java we can do that by `final` keyword."
   ]
  },
  {
   "cell_type": "markdown",
   "metadata": {},
   "source": []
  }
 ],
 "metadata": {
  "kernelspec": {
   "display_name": "Python 3",
   "language": "python",
   "name": "python3"
  },
  "language_info": {
   "codemirror_mode": {
    "name": "ipython",
    "version": 3
   },
   "file_extension": ".py",
   "mimetype": "text/x-python",
   "name": "python",
   "nbconvert_exporter": "python",
   "pygments_lexer": "ipython3",
   "version": "3.11.9"
  }
 },
 "nbformat": 4,
 "nbformat_minor": 2
}
