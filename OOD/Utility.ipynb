{
 "cells": [
  {
   "cell_type": "markdown",
   "metadata": {},
   "source": [
    "## Data Type\n",
    "  - **Value Types**: Typically primitive types like numbers, booleans, and characters. Passed by value, meaning a copy of the data is passed to functions, and modifications do not affect the original variable.\n",
    "    - However, in c# value type can be passed as a reference type by `ref` or `out`.\n",
    "      - `ref:` intialization before passing.\n",
    "      - `ref`when you want to modify the input value.\n",
    "      - Use `out` when you need to return a value from a method.\n",
    "        ```c#\n",
    "          int value=0;\n",
    "          int outValue;\n",
    "          DoSomeCalculation(ref int value, out int outValue);\n",
    "        ```\n",
    "  - **Reference Types**: Complex types like arrays, objects, and classes. Passed by reference, meaning a reference to the actual data is passed to functions, and modifications affect the original variable.\n",
    "\n",
    "\n",
    "| **Language**  | **Value Types**                                       | **Reference Types**                                      |\n",
    "|---------------|--------------------------------------------------------|----------------------------------------------------------|\n",
    "| **Python**    | Immutable types (`int`, `float`, `str`, `tuple`) - Passed by Value  | Mutable types (`list`, `dict`, `set`, custom objects) - Passed by Reference |\n",
    "| **C#**        | Primitives (`int`, `float`, `char`, `struct`,`enum`) - Passed by Value | Reference types (`string`, `object`, `arrays`, custom classes) - Passed by Reference |\n",
    "| **Java**      | Primitives (`int`, `boolean`, `char`, `float`) - Passed by Value | Reference types (`String`, `arrays`,`enum`, custom objects) - Passed by Reference |\n",
    "| **TypeScript**| Primitives (`number`, `boolean`, `string`,`enum`) - Passed by Value | Reference types (`object`, `array`, `functions`) - Passed by Reference |\n",
    "| **Javascript**| Primitives (`number`, `boolean`, `string`) - Passed by Value | Reference types (`object`, `array`, `functions`) - Passed by Reference |\n",
    "| **Go**        | Value types (`int`, `float`, `bool`, `byte`, `struct`, `enum`) - Passed by Value | Reference types (`pointer`, `slice`, `map`, `Interfaces`) - Passed by Reference |\n",
    "\n",
    "---"
   ]
  },
  {
   "cell_type": "markdown",
   "metadata": {},
   "source": [
    "## Array:\n",
    "| Operation               | Python                               | C#                                   | Java                                 | TypeScript                           | Go                                   |\n",
    "|-------------------------|--------------------------------------|--------------------------------------|--------------------------------------|--------------------------------------|--------------------------------------|\n",
    "| **1D Initialization**    | `arr = [1, 2, 3, 4]`                 | `int[] arr = {1, 2, 3, 4};`          | `int[] arr = {1, 2, 3, 4};`          | `let arr: number[] = [1, 2, 3, 4];`  | `arr := []int{1, 2, 3, 4}`           |\n",
    "| **2D Initialization**    | `arr = [[1, 2], [3, 4]]`             | `int[,] arr = { {1, 2}, {3, 4} };`   | `int[][] arr = {{1, 2}, {3, 4}};`    | `let arr: number[][] = [[1, 2], [3, 4]];` | `arr := [][]int{{1, 2}, {3, 4}}`    |\n",
    "| **Access 1D Element**    | `arr[0]`                             | `arr[0]`                             | `arr[0]`                             | `arr[0]`                             | `arr[0]`                             |\n",
    "| **Access 2D Element**    | `arr[0][1]`                          | `arr[0, 1]`                          | `arr[0][1]`                          | `arr[0][1]`                          | `arr[0][1]`                          |\n",
    "| **Length (1D)**          | `len(arr)`                           | `arr.Length`                         | `arr.length`                         | `arr.length`                         | `len(arr)`                           |\n",
    "| **Length (2D)**          | `len(arr)` (rows), `len(arr[0])` (cols) | `arr.GetLength(0)` (rows), `arr.GetLength(1)` (cols) | `arr.length` (rows), `arr[0].length` (cols) | `arr.length` (rows), `arr[0].length` (cols) | `len(arr)` (rows), `len(arr[0])` (cols) |\n",
    "| **Set Element (1D)**     | `arr[index] = value`                 | `arr[index] = value;`                | `arr[index] = value;`                | `arr[index] = value;`                | `arr[index] = value`                 |\n",
    "| **Set Element (2D)**     | `arr[row][col] = value`              | `arr[row, col] = value;`             | `arr[row][col] = value;`             | `arr[row][col] = value;`             | `arr[row][col] = value`              |\n",
    "| **Slice (1D)**           | `arr[1:3]`                           | `arr.Skip(1).Take(2).ToArray();`     | `Arrays.copyOfRange(arr, 1, 3);`     | `arr.slice(1, 3);`                   | `arr[1:3]` (requires manual slicing) |\n",
    "| **Slice (2D)**           | `[row[1:3] for row in arr]`          | Manual logic                         | Manual logic                         | Manual logic                         | Manual logic                         |\n",
    "| **Append (1D)**          | `arr.append(value)`                  | `arr = arr.Concat(new int[] { value }).ToArray();` | Use List class: `list.add(value)`    | `arr.push(value);`                   | `arr = append(arr, value)`           |\n",
    "| **Sort**                 | `arr.sort()`                          | `Array.Sort(arr);`                   | `Arrays.sort(arr);`                  | `arr.sort();`                         | `sort.Ints(arr)`                     |\n",
    "| **Reverse**              | `arr.reverse()`                       | `Array.Reverse(arr);`                | `Collections.reverse(Arrays.asList(arr));` | `arr.reverse();`                     | Manual reverse                       |\n"
   ]
  },
  {
   "cell_type": "markdown",
   "metadata": {},
   "source": [
    "## Map\n",
    "\n",
    "| Operation                 | Python                                    | C#                                            | Java                                       | TypeScript                                      | Go                                            |\n",
    "|---------------------------|-------------------------------------------|-----------------------------------------------|--------------------------------------------|-------------------------------------------------|-----------------------------------------------|\n",
    "| **Initialization**         | `map = {}`                                | `var map = new Dictionary<TKey, TValue>();`    | `Map<K, V> map = new HashMap<>();`         | `let map = new Map<K, V>();`                   | `map := make(map[K]V)`                        |\n",
    "| **Insert Key-Value**       | `map[key] = value`                        | `map[key] = value;`                           | `map.put(key, value);`                      | `map.set(key, value);`                         | `map[key] = value`                             |\n",
    "| **Access by Key**          | `map[key]`                                | `map[key]`                                    | `map.get(key);`                             | `map.get(key);`                                 | `value := map[key]`                           |\n",
    "| **Remove Key**             | `del map[key]`                            | `map.Remove(key);`                             | `map.remove(key);`                          | `map.delete(key);`                             | `delete(map, key)`                            |\n",
    "| **Check Key Existence**    | `key in map`                              | `map.ContainsKey(key)`                        | `map.containsKey(key);`                     | `map.has(key);`                                 | `value, exists := map[key]`                   |\n",
    "| **Iterate Keys**           | `for key in map:`                         | `foreach (var key in map.Keys)`                | `for (K key : map.keySet())`                | `map.forEach((value, key) => { ... });`         | `for key := range map`                        |\n",
    "| **Iterate Values**         | `for value in map.values():`              | `foreach (var value in map.Values)`            | `for (V value : map.values())`              | `Use map.forEach or Array.from(map.values())`   | `for _, value := range map`                   |\n",
    "| **Iterate Key-Value**      | `for key, value in map.items():`          | `foreach (var kvp in map)`                    | `for (Map.Entry<K, V> entry : map.entrySet())` | `map.forEach((value, key) => { ... });`         | `for key, value := range map`                 |\n",
    "| **Size**                   | `len(map)`                                | `map.Count`                                   | `map.size()`                                | `map.size`                                      | `len(map)`                                    |\n",
    "| **Clear**                  | `map.clear()`                             | `map.Clear();`                                | `map.clear();`                              | `map.clear();`                                  | `map = make(map[K]V)`                         |\n"
   ]
  },
  {
   "cell_type": "markdown",
   "metadata": {},
   "source": [
    "## Set or Hashing\n",
    "\n",
    "| Operation               | Python                                   | C#                                           | Java                                      | TypeScript                                       | Go                                           |\n",
    "|-------------------------|------------------------------------------|----------------------------------------------|-------------------------------------------|--------------------------------------------------|----------------------------------------------|\n",
    "| **Initialization**       | `s = set()`                              | `var set = new HashSet<T>();`                | `Set<T> set = new HashSet<>();`           | `let set = new Set<T>();`                       | `set := make(map[T]struct{})`                |\n",
    "| **Add Element**          | `s.add(value)`                           | `set.Add(value);`                            | `set.add(value);`                         | `set.add(value);`                               | `set[value] = struct{}`                      |\n",
    "| **Remove Element**       | `s.remove(value)`                        | `set.Remove(value);`                         | `set.remove(value);`                      | `set.delete(value);`                            | `delete(set, value)`                         |\n",
    "| **Check Existence**      | `value in s`                             | `set.Contains(value)`                        | `set.contains(value);`                    | `set.has(value);`                               | `_, exists := set[value]`                    |\n",
    "| **Size**                 | `len(s)`                                 | `set.Count`                                  | `set.size()`                               | `set.size`                                       | `len(set)`                                   |\n",
    "| **Union**                | `s1 | s2`                               | `set.UnionWith(otherSet);`                    | `set.addAll(otherSet);`                    | Combine using iteration (manual logic)          | Combine using iteration (manual logic)       |\n",
    "| **Intersection**         | `s1 & s2`                                | `set.IntersectWith(otherSet);`                | `set.retainAll(otherSet);`                 | Combine using iteration (manual logic)          | Manual intersection via iteration            |\n",
    "| **Difference**           | `s1 - s2`                                | `set.ExceptWith(otherSet);`                   | `set.removeAll(otherSet);`                 | Combine using iteration (manual logic)          | Manual difference via iteration              |\n",
    "| **Clear**                | `s.clear()`                              | `set.Clear();`                               | `set.clear();`                             | `set.clear();`                                   | `set = make(map[T]struct{})`                 |\n",
    "| **Iterate Elements**     | `for value in s:`                        | `foreach (var value in set)`                 | `for (T value : set)`                      | `set.forEach(value => { ... });`                | `for value := range set`                     |\n"
   ]
  }
 ],
 "metadata": {
  "language_info": {
   "name": "python"
  }
 },
 "nbformat": 4,
 "nbformat_minor": 2
}
